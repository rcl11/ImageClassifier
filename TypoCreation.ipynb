version https://git-lfs.github.com/spec/v1
oid sha256:27b7e86ceb8958512489f3f83a40ee8b480b1c01edf8baea173ce3983813f23c
size 15567
