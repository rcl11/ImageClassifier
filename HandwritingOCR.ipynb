version https://git-lfs.github.com/spec/v1
oid sha256:44b409392f0d33c99a96a6a55b4a446bd7f50a5bcd77a075e7fc8c3578cfa530
size 80625
