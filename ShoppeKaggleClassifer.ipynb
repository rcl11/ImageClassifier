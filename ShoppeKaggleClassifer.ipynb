version https://git-lfs.github.com/spec/v1
oid sha256:a6ae6e5e99ef6b76d74ff04bc4105b32cc2904bebcd902fdc7d237add83d5245
size 361104
